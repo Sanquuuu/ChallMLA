{
 "cells": [
  {
   "cell_type": "markdown",
   "id": "8139c0c1",
   "metadata": {},
   "source": [
    "Challenge Datascience ENS :\n",
    "Challenge 163 Egis."
   ]
  },
  {
   "cell_type": "code",
   "execution_count": 18,
   "id": "d2c85573",
   "metadata": {},
   "outputs": [],
   "source": [
    "import numpy as np\n",
    "import matplotlib.pyplot as plt\n",
    "import pandas as pd"
   ]
  },
  {
   "cell_type": "code",
   "execution_count": 19,
   "id": "8efc14a4",
   "metadata": {},
   "outputs": [],
   "source": [
    "dataX = pd.read_csv('data/x_train_final_asAbTs5.csv')\n",
    "dataY = pd.read_csv('data/y_train_final_YYyFil7.csv')"
   ]
  },
  {
   "cell_type": "markdown",
   "id": "af840546",
   "metadata": {},
   "source": [
    "Shape dataX,dataY and columns names.\\\n",
    "(6076546, 11) (6076546, 2)\\\n",
    "Index(['Unnamed: 0', 'total_count', 'longitude_scaled', 'latitude_scaled','Precipitations', 'HauteurNeige', 'Temperature', 'ForceVent','day_of_week', 'month_of_year', 'hour'],dtype='object')\\\n",
    "Index(['Unnamed: 0', 'invalid_ratio'], dtype='object')"
   ]
  },
  {
   "cell_type": "code",
   "execution_count": 20,
   "id": "ba1cd325",
   "metadata": {},
   "outputs": [
    {
     "name": "stdout",
     "output_type": "stream",
     "text": [
      "   Unnamed: 0  total_count  longitude_scaled  latitude_scaled  Precipitations  \\\n",
      "0           0            1          0.998417         0.996118             0.0   \n",
      "1           1           35          0.999222         0.996000             0.0   \n",
      "2           2            3          0.998371         0.996309             1.8   \n",
      "3           3            1          0.998804         0.996343             0.0   \n",
      "4           4            2          0.999126         0.996417             0.0   \n",
      "\n",
      "   HauteurNeige  Temperature  ForceVent  day_of_week  month_of_year  hour  \n",
      "0           0.0         14.6        2.5            3              4     8  \n",
      "1           0.0         22.4        3.1            5              3    13  \n",
      "2           0.0         11.7        3.3            4             10     8  \n",
      "3           0.0         28.6        2.6            4              2    16  \n",
      "4           0.0          9.6        3.2            3              9    18  \n",
      "   Unnamed: 0  invalid_ratio\n",
      "0           0       0.000000\n",
      "1           1       0.228571\n",
      "2           2       1.000000\n",
      "3           3       0.000000\n",
      "4           4       0.500000\n"
     ]
    }
   ],
   "source": [
    "print(dataX.head())\n",
    "print(dataY.head())"
   ]
  },
  {
   "cell_type": "code",
   "execution_count": null,
   "id": "a260bb47",
   "metadata": {},
   "outputs": [],
   "source": [
    "dataX.drop(columns=['Unnamed: 0'], inplace=True)\n",
    "dataY.drop(columns=['Unnamed: 0'], inplace=True)"
   ]
  },
  {
   "cell_type": "code",
   "execution_count": 32,
   "id": "a6d41ac7",
   "metadata": {},
   "outputs": [
    {
     "name": "stdout",
     "output_type": "stream",
     "text": [
      "6076546\n",
      "0           1\n",
      "1          35\n",
      "2           3\n",
      "3           1\n",
      "4           2\n",
      "           ..\n",
      "6076541     9\n",
      "6076542    55\n",
      "6076543     9\n",
      "6076544    14\n",
      "6076545     1\n",
      "Name: total_count, Length: 6076546, dtype: int64\n"
     ]
    }
   ],
   "source": [
    "print(len(dataX['total_count'] > 1000))\n",
    "print(dataX['total_count'])"
   ]
  },
  {
   "cell_type": "code",
   "execution_count": 28,
   "id": "77ea7ec7",
   "metadata": {},
   "outputs": [
    {
     "data": {
      "image/png": "[encoded data removed]",
      "text/plain": [
       "<Figure size 640x480 with 1 Axes>"
      ]
     },
     "metadata": {},
     "output_type": "display_data"
    }
   ],
   "source": [
    "minimum = dataX['total_count'].min()\n",
    "maximum = dataX['total_count'].max()\n",
    "\n",
    "plt.plot([len(dataX['total_count'] > i) for i in range(minimum, maximum+1)])\n",
    "plt.show()"
   ]
  }
 ],
 "metadata": {
  "kernelspec": {
   "display_name": "Python 3",
   "language": "python",
   "name": "python3"
  },
  "language_info": {
   "codemirror_mode": {
    "name": "ipython",
    "version": 3
   },
   "file_extension": ".py",
   "mimetype": "text/x-python",
   "name": "python",
   "nbconvert_exporter": "python",
   "pygments_lexer": "ipython3",
   "version": "3.11.9"
  }
 },
 "nbformat": 4,
 "nbformat_minor": 5
}
